{
 "cells": [
  {
   "cell_type": "markdown",
   "metadata": {},
   "source": [
    "## Lesson-01 通过构建线性回归-理解Loss函数-梯度下降与函数拟合"
   ]
  },
  {
   "cell_type": "markdown",
   "metadata": {},
   "source": [
    "## Load Dataset"
   ]
  },
  {
   "cell_type": "code",
   "execution_count": 1,
   "metadata": {},
   "outputs": [],
   "source": [
    "from sklearn.datasets import load_boston"
   ]
  },
  {
   "cell_type": "code",
   "execution_count": 2,
   "metadata": {},
   "outputs": [],
   "source": [
    "data = load_boston()"
   ]
  },
  {
   "cell_type": "code",
   "execution_count": 3,
   "metadata": {},
   "outputs": [
    {
     "name": "stdout",
     "output_type": "stream",
     "text": [
      ".. _boston_dataset:\n",
      "\n",
      "Boston house prices dataset\n",
      "---------------------------\n",
      "\n",
      "**Data Set Characteristics:**  \n",
      "\n",
      "    :Number of Instances: 506 \n",
      "\n",
      "    :Number of Attributes: 13 numeric/categorical predictive. Median Value (attribute 14) is usually the target.\n",
      "\n",
      "    :Attribute Information (in order):\n",
      "        - CRIM     per capita crime rate by town\n",
      "        - ZN       proportion of residential land zoned for lots over 25,000 sq.ft.\n",
      "        - INDUS    proportion of non-retail business acres per town\n",
      "        - CHAS     Charles River dummy variable (= 1 if tract bounds river; 0 otherwise)\n",
      "        - NOX      nitric oxides concentration (parts per 10 million)\n",
      "        - RM       average number of rooms per dwelling\n",
      "        - AGE      proportion of owner-occupied units built prior to 1940\n",
      "        - DIS      weighted distances to five Boston employment centres\n",
      "        - RAD      index of accessibility to radial highways\n",
      "        - TAX      full-value property-tax rate per $10,000\n",
      "        - PTRATIO  pupil-teacher ratio by town\n",
      "        - B        1000(Bk - 0.63)^2 where Bk is the proportion of blacks by town\n",
      "        - LSTAT    % lower status of the population\n",
      "        - MEDV     Median value of owner-occupied homes in $1000's\n",
      "\n",
      "    :Missing Attribute Values: None\n",
      "\n",
      "    :Creator: Harrison, D. and Rubinfeld, D.L.\n",
      "\n",
      "This is a copy of UCI ML housing dataset.\n",
      "https://archive.ics.uci.edu/ml/machine-learning-databases/housing/\n",
      "\n",
      "\n",
      "This dataset was taken from the StatLib library which is maintained at Carnegie Mellon University.\n",
      "\n",
      "The Boston house-price data of Harrison, D. and Rubinfeld, D.L. 'Hedonic\n",
      "prices and the demand for clean air', J. Environ. Economics & Management,\n",
      "vol.5, 81-102, 1978.   Used in Belsley, Kuh & Welsch, 'Regression diagnostics\n",
      "...', Wiley, 1980.   N.B. Various transformations are used in the table on\n",
      "pages 244-261 of the latter.\n",
      "\n",
      "The Boston house-price data has been used in many machine learning papers that address regression\n",
      "problems.   \n",
      "     \n",
      ".. topic:: References\n",
      "\n",
      "   - Belsley, Kuh & Welsch, 'Regression diagnostics: Identifying Influential Data and Sources of Collinearity', Wiley, 1980. 244-261.\n",
      "   - Quinlan,R. (1993). Combining Instance-Based and Model-Based Learning. In Proceedings on the Tenth International Conference of Machine Learning, 236-243, University of Massachusetts, Amherst. Morgan Kaufmann.\n",
      "\n"
     ]
    }
   ],
   "source": [
    "print(data['DESCR'])"
   ]
  },
  {
   "cell_type": "code",
   "execution_count": 4,
   "metadata": {},
   "outputs": [],
   "source": [
    "X, y = data['data'], data['target']"
   ]
  },
  {
   "cell_type": "code",
   "execution_count": 5,
   "metadata": {},
   "outputs": [
    {
     "data": {
      "text/plain": [
       "(506, 13)"
      ]
     },
     "execution_count": 5,
     "metadata": {},
     "output_type": "execute_result"
    }
   ],
   "source": [
    "X.shape"
   ]
  },
  {
   "cell_type": "code",
   "execution_count": 6,
   "metadata": {},
   "outputs": [
    {
     "data": {
      "text/plain": [
       "506"
      ]
     },
     "execution_count": 6,
     "metadata": {},
     "output_type": "execute_result"
    }
   ],
   "source": [
    "len(y)"
   ]
  },
  {
   "cell_type": "code",
   "execution_count": 7,
   "metadata": {},
   "outputs": [],
   "source": [
    "%matplotlib inline"
   ]
  },
  {
   "cell_type": "code",
   "execution_count": 8,
   "metadata": {},
   "outputs": [],
   "source": [
    "import matplotlib.pyplot as plt"
   ]
  },
  {
   "cell_type": "code",
   "execution_count": 9,
   "metadata": {},
   "outputs": [
    {
     "data": {
      "text/plain": [
       "<matplotlib.collections.PathCollection at 0x7fa3aa507e50>"
      ]
     },
     "execution_count": 9,
     "metadata": {},
     "output_type": "execute_result"
    },
    {
     "data": {
      "image/png": "[encoded data removed]",
      "text/plain": [
       "<Figure size 432x288 with 1 Axes>"
      ]
     },
     "metadata": {
      "needs_background": "light"
     },
     "output_type": "display_data"
    }
   ],
   "source": [
    "plt.scatter(X[:, 5], y)"
   ]
  },
  {
   "cell_type": "markdown",
   "metadata": {},
   "source": [
    "## 目标：就是要找到一个“最佳的直线，来拟合卧室和房价的关系”"
   ]
  },
  {
   "cell_type": "code",
   "execution_count": 10,
   "metadata": {},
   "outputs": [],
   "source": [
    "import random"
   ]
  },
  {
   "cell_type": "code",
   "execution_count": 11,
   "metadata": {},
   "outputs": [],
   "source": [
    "k, b = random.randint(-100, 100) ,random.randint(-100, 100)\n",
    "\n",
    "def func(x):\n",
    "    return k * x + b"
   ]
  },
  {
   "cell_type": "code",
   "execution_count": 12,
   "metadata": {},
   "outputs": [],
   "source": [
    "X_rm = X[:, 5]"
   ]
  },
  {
   "cell_type": "code",
   "execution_count": 13,
   "metadata": {},
   "outputs": [],
   "source": [
    "y_hat = [func(x) for x in X_rm]"
   ]
  },
  {
   "cell_type": "code",
   "execution_count": 14,
   "metadata": {},
   "outputs": [
    {
     "data": {
      "text/plain": [
       "[<matplotlib.lines.Line2D at 0x7fa3a9799590>]"
      ]
     },
     "execution_count": 14,
     "metadata": {},
     "output_type": "execute_result"
    },
    {
     "data": {
      "image/png": "[encoded data removed]",
      "text/plain": [
       "<Figure size 432x288 with 1 Axes>"
      ]
     },
     "metadata": {
      "needs_background": "light"
     },
     "output_type": "display_data"
    }
   ],
   "source": [
    "plt.scatter(X[:, 5], y)\n",
    "plt.plot(X_rm, y_hat)"
   ]
  },
  {
   "cell_type": "markdown",
   "metadata": {},
   "source": [
    "## 随机画了一根直线，结果发现，离得很远。。。😔"
   ]
  },
  {
   "cell_type": "code",
   "execution_count": 15,
   "metadata": {},
   "outputs": [],
   "source": [
    "def draw_room_and_price():\n",
    "    plt.scatter(X[:, 5], y)"
   ]
  },
  {
   "cell_type": "code",
   "execution_count": 16,
   "metadata": {},
   "outputs": [
    {
     "name": "stdout",
     "output_type": "stream",
     "text": [
      "the random k : 33, b: 37\n"
     ]
    },
    {
     "data": {
      "text/plain": [
       "<matplotlib.collections.PathCollection at 0x7fa3a96e4a90>"
      ]
     },
     "execution_count": 16,
     "metadata": {},
     "output_type": "execute_result"
    },
    {
     "data": {
      "image/png": "[encoded data removed]",
      "text/plain": [
       "<Figure size 432x288 with 1 Axes>"
      ]
     },
     "metadata": {
      "needs_background": "light"
     },
     "output_type": "display_data"
    }
   ],
   "source": [
    "def price(x, k, b):\n",
    "    return k * x + b\n",
    "\n",
    "k, b = random.randint(-100, 100) ,random.randint(-100, 100)\n",
    "\n",
    "price_by_random_k_and_b = [price(x, k, b) for x in X_rm]\n",
    "print('the random k : {}, b: {}'.format(k, b))\n",
    "draw_room_and_price()\n",
    "plt.scatter(X_rm, price_by_random_k_and_b)"
   ]
  },
  {
   "cell_type": "markdown",
   "metadata": {},
   "source": [
    "## 目标是想找到最好的k 和 b?"
   ]
  },
  {
   "cell_type": "markdown",
   "metadata": {},
   "source": [
    "## 我们需要一个标准去衡量这个东西到底好不好"
   ]
  },
  {
   "cell_type": "markdown",
   "metadata": {},
   "source": [
    "y_true, $\\hat{y}$\n",
    "\n",
    "衡量y_true, $\\hat{y}$ -->  损失函数"
   ]
  },
  {
   "cell_type": "markdown",
   "metadata": {},
   "source": [
    "## L1-Loss"
   ]
  },
  {
   "cell_type": "markdown",
   "metadata": {},
   "source": [
    "$$ loss = \\frac{1}{n} \\sum_{i}^{n} | y_{ture-i} - \\hat{y_{i}} | $$"
   ]
  },
  {
   "cell_type": "code",
   "execution_count": 17,
   "metadata": {},
   "outputs": [],
   "source": [
    "y_true = [3, 4, 4]\n",
    "y_hat = [1, 1, 4]\n",
    "y_hat_2 = [3, 4, 0]"
   ]
  },
  {
   "cell_type": "markdown",
   "metadata": {},
   "source": [
    "## L1-Loss值是多少呢？| 3 - 1 | + | 4 - 1 | + | 4 - 4 | = 2 + 2 + 0 = 4  "
   ]
  },
  {
   "cell_type": "markdown",
   "metadata": {},
   "source": [
    "## $\\hat{y_2}$ L1-Loss | 3 - 3 | + | 4 - 4 | + | 4 - 0 | = 0 + 0 + 4 = 4"
   ]
  },
  {
   "cell_type": "markdown",
   "metadata": {},
   "source": [
    "## L2-Loss"
   ]
  },
  {
   "cell_type": "markdown",
   "metadata": {},
   "source": [
    "$$ loss = \\frac{1}{n} \\sum_{i}^{n} (y_i - \\hat{y_i}) ^ 2 $$"
   ]
  },
  {
   "cell_type": "code",
   "execution_count": 18,
   "metadata": {},
   "outputs": [],
   "source": [
    "def loss(y, y_hat):\n",
    "    sum_ = sum([(y_i - y_hat_i) ** 2 for y_i, y_hat_i in zip(y, y_hat)])\n",
    "    return sum_ / len(y)"
   ]
  },
  {
   "cell_type": "code",
   "execution_count": 19,
   "metadata": {},
   "outputs": [
    {
     "name": "stdout",
     "output_type": "stream",
     "text": [
      "4.333333333333333\n",
      "5.333333333333333\n"
     ]
    }
   ],
   "source": [
    "y_true = [3, 4, 4]\n",
    "y_hat = [1, 1, 4]\n",
    "y_hat_2 = [3, 4, 0]\n",
    "print(loss(y_true, y_hat))\n",
    "print(loss(y_true, y_hat_2))"
   ]
  },
  {
   "cell_type": "code",
   "execution_count": 20,
   "metadata": {},
   "outputs": [
    {
     "name": "stdout",
     "output_type": "stream",
     "text": [
      "the random k : -51, b: -97\n",
      "the k : -51, b : -97 is 195466.6087858638\n"
     ]
    },
    {
     "data": {
      "image/png": "[encoded data removed]",
      "text/plain": [
       "<Figure size 432x288 with 1 Axes>"
      ]
     },
     "metadata": {
      "needs_background": "light"
     },
     "output_type": "display_data"
    }
   ],
   "source": [
    "def price(x, k, b):\n",
    "    return k * x + b\n",
    "\n",
    "k, b = random.randint(-100, 100), random.randint(-100, 100)\n",
    "\n",
    "price_by_random_k_and_b = [price(x, k, b) for x in X_rm]\n",
    "print('the random k : {}, b: {}'.format(k, b))\n",
    "draw_room_and_price()\n",
    "plt.scatter(X_rm, price_by_random_k_and_b)\n",
    "cost = loss(list(y), price_by_random_k_and_b)\n",
    "print('the k : {}, b : {} is {}'.format(k, b, cost))"
   ]
  },
  {
   "cell_type": "markdown",
   "metadata": {},
   "source": [
    "## Loss-1 一件事情你只要知道如何评价它好与坏基本上就完成一半的工作了"
   ]
  },
  {
   "cell_type": "markdown",
   "metadata": {},
   "source": [
    "## 最简单的方法，我们随机生成若干组k和b，然后找到最佳的一组k和b"
   ]
  },
  {
   "cell_type": "code",
   "execution_count": 21,
   "metadata": {},
   "outputs": [
    {
     "name": "stdout",
     "output_type": "stream",
     "text": [
      "在第0, k 和 b更新了\n",
      "在第1, k 和 b更新了\n",
      "在第2, k 和 b更新了\n",
      "在第5, k 和 b更新了\n",
      "在第17, k 和 b更新了\n",
      "在第49, k 和 b更新了\n",
      "在第73, k 和 b更新了\n",
      "在第148, k 和 b更新了\n"
     ]
    }
   ],
   "source": [
    "def price(x, k, b):\n",
    "    return k * x + b\n",
    "\n",
    "trying_times = 1000\n",
    "\n",
    "best_k, best_b = None, None\n",
    "\n",
    "min_cost = float('inf')\n",
    "\n",
    "losses = []\n",
    "\n",
    "for i in range(trying_times):\n",
    "    k = random.random() * 100 - 200\n",
    "    b = random.random() * 100 - 200\n",
    "\n",
    "    price_by_random_k_and_b = [price(x, k, b) for x in X_rm]\n",
    "#     print('the random k : {}, b: {}'.format(k, b))\n",
    "#     draw_room_and_price()\n",
    "#     plt.scatter(X_rm, price_by_random_k_and_b)\n",
    "    cost = loss(list(y), price_by_random_k_and_b)\n",
    "    \n",
    "    \n",
    "    if cost < min_cost:\n",
    "        min_cost = cost\n",
    "        best_k, best_b = k, b\n",
    "        print('在第{}, k 和 b更新了'.format(i))\n",
    "        losses.append(min_cost)"
   ]
  },
  {
   "cell_type": "code",
   "execution_count": 22,
   "metadata": {},
   "outputs": [
    {
     "data": {
      "text/plain": [
       "[<matplotlib.lines.Line2D at 0x7fa3a95bc410>]"
      ]
     },
     "execution_count": 22,
     "metadata": {},
     "output_type": "execute_result"
    },
    {
     "data": {
      "image/png": "[encoded data removed]",
      "text/plain": [
       "<Figure size 432x288 with 1 Axes>"
      ]
     },
     "metadata": {
      "needs_background": "light"
     },
     "output_type": "display_data"
    }
   ],
   "source": [
    "plt.plot(losses)"
   ]
  },
  {
   "cell_type": "code",
   "execution_count": 23,
   "metadata": {},
   "outputs": [
    {
     "data": {
      "text/plain": [
       "596836.6932285443"
      ]
     },
     "execution_count": 23,
     "metadata": {},
     "output_type": "execute_result"
    }
   ],
   "source": [
    "min_cost"
   ]
  },
  {
   "cell_type": "code",
   "execution_count": 24,
   "metadata": {},
   "outputs": [
    {
     "data": {
      "text/plain": [
       "(-100.09422366576878, -117.1236816344215)"
      ]
     },
     "execution_count": 24,
     "metadata": {},
     "output_type": "execute_result"
    }
   ],
   "source": [
    "best_k, best_b"
   ]
  },
  {
   "cell_type": "code",
   "execution_count": 25,
   "metadata": {},
   "outputs": [],
   "source": [
    "def plot_by_k_and_b(k, b):\n",
    "    price_by_random_k_and_b = [price(x, k, b) for x in X_rm]\n",
    "    print('the random k : {}, b: {}'.format(k, b))\n",
    "    draw_room_and_price()\n",
    "    plt.scatter(X_rm, price_by_random_k_and_b)"
   ]
  },
  {
   "cell_type": "code",
   "execution_count": 26,
   "metadata": {},
   "outputs": [
    {
     "name": "stdout",
     "output_type": "stream",
     "text": [
      "the random k : -100.09422366576878, b: -117.1236816344215\n"
     ]
    },
    {
     "data": {
      "image/png": "[encoded data removed]",
      "text/plain": [
       "<Figure size 432x288 with 1 Axes>"
      ]
     },
     "metadata": {
      "needs_background": "light"
     },
     "output_type": "display_data"
    }
   ],
   "source": [
    "plot_by_k_and_b(best_k, best_b)"
   ]
  },
  {
   "cell_type": "markdown",
   "metadata": {},
   "source": [
    "## 2-nd 进行方向的调整"
   ]
  },
  {
   "cell_type": "markdown",
   "metadata": {},
   "source": [
    "## k的变化有两种：增大和减小\n",
    "## b的变化有两种：增大和减小"
   ]
  },
  {
   "cell_type": "markdown",
   "metadata": {},
   "source": [
    "k, b这一组我们进行变化，就有四种组合\n",
    "当k沿着某个方向$d_n$变化的时候，如果，loss下降了，那么k和b接下来就继续沿着$d_n$这个方向走，否则，我们就换一个方向"
   ]
  },
  {
   "cell_type": "code",
   "execution_count": 27,
   "metadata": {},
   "outputs": [
    {
     "name": "stdout",
     "output_type": "stream",
     "text": [
      "在第0, k 和 b更新了\n",
      "在第1, k 和 b更新了\n",
      "在第2, k 和 b更新了\n",
      "在第3, k 和 b更新了\n",
      "在第4, k 和 b更新了\n",
      "在第5, k 和 b更新了\n",
      "在第6, k 和 b更新了\n",
      "在第7, k 和 b更新了\n",
      "在第8, k 和 b更新了\n",
      "在第9, k 和 b更新了\n",
      "在第10, k 和 b更新了\n",
      "在第11, k 和 b更新了\n",
      "在第12, k 和 b更新了\n",
      "在第13, k 和 b更新了\n",
      "在第14, k 和 b更新了\n",
      "在第15, k 和 b更新了\n",
      "在第16, k 和 b更新了\n",
      "在第17, k 和 b更新了\n",
      "在第18, k 和 b更新了\n",
      "在第19, k 和 b更新了\n",
      "在第20, k 和 b更新了\n",
      "在第21, k 和 b更新了\n",
      "在第22, k 和 b更新了\n",
      "在第23, k 和 b更新了\n",
      "在第24, k 和 b更新了\n",
      "在第25, k 和 b更新了\n",
      "在第26, k 和 b更新了\n",
      "在第27, k 和 b更新了\n",
      "在第28, k 和 b更新了\n",
      "在第29, k 和 b更新了\n",
      "在第30, k 和 b更新了\n",
      "在第31, k 和 b更新了\n",
      "在第32, k 和 b更新了\n",
      "在第33, k 和 b更新了\n",
      "在第34, k 和 b更新了\n",
      "在第35, k 和 b更新了\n",
      "在第36, k 和 b更新了\n",
      "在第37, k 和 b更新了\n",
      "在第38, k 和 b更新了\n",
      "在第39, k 和 b更新了\n",
      "在第40, k 和 b更新了\n",
      "在第41, k 和 b更新了\n",
      "在第42, k 和 b更新了\n",
      "在第43, k 和 b更新了\n",
      "在第44, k 和 b更新了\n",
      "在第45, k 和 b更新了\n",
      "在第46, k 和 b更新了\n",
      "在第47, k 和 b更新了\n",
      "在第48, k 和 b更新了\n",
      "在第49, k 和 b更新了\n",
      "在第50, k 和 b更新了\n",
      "在第51, k 和 b更新了\n",
      "在第52, k 和 b更新了\n",
      "在第53, k 和 b更新了\n",
      "在第54, k 和 b更新了\n",
      "在第55, k 和 b更新了\n",
      "在第56, k 和 b更新了\n",
      "在第57, k 和 b更新了\n",
      "在第58, k 和 b更新了\n",
      "在第59, k 和 b更新了\n",
      "在第60, k 和 b更新了\n",
      "在第61, k 和 b更新了\n",
      "在第62, k 和 b更新了\n",
      "在第63, k 和 b更新了\n",
      "在第64, k 和 b更新了\n",
      "在第65, k 和 b更新了\n",
      "在第66, k 和 b更新了\n",
      "在第67, k 和 b更新了\n",
      "在第68, k 和 b更新了\n",
      "在第69, k 和 b更新了\n",
      "在第70, k 和 b更新了\n",
      "在第71, k 和 b更新了\n",
      "在第72, k 和 b更新了\n",
      "在第73, k 和 b更新了\n",
      "在第74, k 和 b更新了\n",
      "在第75, k 和 b更新了\n",
      "在第76, k 和 b更新了\n",
      "在第77, k 和 b更新了\n",
      "在第78, k 和 b更新了\n",
      "在第79, k 和 b更新了\n",
      "在第80, k 和 b更新了\n",
      "在第81, k 和 b更新了\n",
      "在第82, k 和 b更新了\n",
      "在第83, k 和 b更新了\n",
      "在第84, k 和 b更新了\n",
      "在第85, k 和 b更新了\n",
      "在第86, k 和 b更新了\n",
      "在第87, k 和 b更新了\n",
      "在第88, k 和 b更新了\n",
      "在第89, k 和 b更新了\n",
      "在第90, k 和 b更新了\n",
      "在第91, k 和 b更新了\n",
      "在第92, k 和 b更新了\n",
      "在第93, k 和 b更新了\n",
      "在第94, k 和 b更新了\n",
      "在第95, k 和 b更新了\n",
      "在第96, k 和 b更新了\n",
      "在第97, k 和 b更新了\n",
      "在第98, k 和 b更新了\n",
      "在第99, k 和 b更新了\n",
      "在第100, k 和 b更新了\n",
      "在第101, k 和 b更新了\n",
      "在第102, k 和 b更新了\n",
      "在第103, k 和 b更新了\n",
      "在第104, k 和 b更新了\n",
      "在第105, k 和 b更新了\n",
      "在第106, k 和 b更新了\n",
      "在第107, k 和 b更新了\n",
      "在第108, k 和 b更新了\n",
      "在第109, k 和 b更新了\n",
      "在第110, k 和 b更新了\n",
      "在第111, k 和 b更新了\n",
      "在第112, k 和 b更新了\n",
      "在第113, k 和 b更新了\n",
      "在第114, k 和 b更新了\n",
      "在第115, k 和 b更新了\n",
      "在第116, k 和 b更新了\n",
      "在第117, k 和 b更新了\n",
      "在第118, k 和 b更新了\n",
      "在第119, k 和 b更新了\n",
      "在第120, k 和 b更新了\n",
      "在第121, k 和 b更新了\n",
      "在第122, k 和 b更新了\n",
      "在第123, k 和 b更新了\n",
      "在第124, k 和 b更新了\n",
      "在第125, k 和 b更新了\n",
      "在第126, k 和 b更新了\n",
      "在第127, k 和 b更新了\n",
      "在第128, k 和 b更新了\n",
      "在第129, k 和 b更新了\n",
      "在第130, k 和 b更新了\n",
      "在第131, k 和 b更新了\n",
      "在第132, k 和 b更新了\n",
      "在第133, k 和 b更新了\n",
      "在第134, k 和 b更新了\n",
      "在第135, k 和 b更新了\n",
      "在第136, k 和 b更新了\n",
      "在第137, k 和 b更新了\n",
      "在第138, k 和 b更新了\n",
      "在第139, k 和 b更新了\n",
      "在第140, k 和 b更新了\n",
      "在第141, k 和 b更新了\n",
      "在第142, k 和 b更新了\n",
      "在第143, k 和 b更新了\n",
      "在第144, k 和 b更新了\n",
      "在第145, k 和 b更新了\n",
      "在第146, k 和 b更新了\n",
      "在第147, k 和 b更新了\n",
      "在第148, k 和 b更新了\n",
      "在第149, k 和 b更新了\n",
      "在第150, k 和 b更新了\n",
      "在第151, k 和 b更新了\n",
      "在第152, k 和 b更新了\n",
      "在第153, k 和 b更新了\n",
      "在第154, k 和 b更新了\n",
      "在第155, k 和 b更新了\n",
      "在第156, k 和 b更新了\n",
      "在第157, k 和 b更新了\n",
      "在第158, k 和 b更新了\n",
      "在第159, k 和 b更新了\n",
      "在第160, k 和 b更新了\n",
      "在第161, k 和 b更新了\n",
      "在第162, k 和 b更新了\n",
      "在第163, k 和 b更新了\n",
      "在第164, k 和 b更新了\n",
      "在第165, k 和 b更新了\n",
      "在第166, k 和 b更新了\n",
      "在第167, k 和 b更新了\n",
      "在第168, k 和 b更新了\n",
      "在第169, k 和 b更新了\n",
      "在第170, k 和 b更新了\n",
      "在第171, k 和 b更新了\n",
      "在第172, k 和 b更新了\n",
      "在第173, k 和 b更新了\n",
      "在第174, k 和 b更新了\n",
      "在第175, k 和 b更新了\n",
      "在第176, k 和 b更新了\n",
      "在第177, k 和 b更新了\n",
      "在第178, k 和 b更新了\n",
      "在第179, k 和 b更新了\n",
      "在第180, k 和 b更新了\n",
      "在第181, k 和 b更新了\n",
      "在第182, k 和 b更新了\n",
      "在第183, k 和 b更新了\n",
      "在第184, k 和 b更新了\n",
      "在第185, k 和 b更新了\n",
      "在第186, k 和 b更新了\n",
      "在第187, k 和 b更新了\n",
      "在第188, k 和 b更新了\n",
      "在第189, k 和 b更新了\n",
      "在第190, k 和 b更新了\n",
      "在第191, k 和 b更新了\n",
      "在第192, k 和 b更新了\n",
      "在第193, k 和 b更新了\n",
      "在第194, k 和 b更新了\n",
      "在第195, k 和 b更新了\n",
      "在第196, k 和 b更新了\n",
      "在第197, k 和 b更新了\n",
      "在第198, k 和 b更新了\n",
      "在第199, k 和 b更新了\n",
      "在第200, k 和 b更新了\n",
      "在第201, k 和 b更新了\n",
      "在第202, k 和 b更新了\n",
      "在第203, k 和 b更新了\n",
      "在第204, k 和 b更新了\n",
      "在第205, k 和 b更新了\n",
      "在第206, k 和 b更新了\n",
      "在第207, k 和 b更新了\n",
      "在第208, k 和 b更新了\n",
      "在第209, k 和 b更新了\n",
      "在第210, k 和 b更新了\n",
      "在第211, k 和 b更新了\n",
      "在第212, k 和 b更新了\n",
      "在第213, k 和 b更新了\n",
      "在第214, k 和 b更新了\n",
      "在第215, k 和 b更新了\n",
      "在第216, k 和 b更新了\n",
      "在第217, k 和 b更新了\n",
      "在第218, k 和 b更新了\n",
      "在第219, k 和 b更新了\n",
      "在第220, k 和 b更新了\n",
      "在第221, k 和 b更新了\n",
      "在第222, k 和 b更新了\n",
      "在第223, k 和 b更新了\n",
      "在第224, k 和 b更新了\n",
      "在第225, k 和 b更新了\n",
      "在第226, k 和 b更新了\n",
      "在第227, k 和 b更新了\n",
      "在第228, k 和 b更新了\n",
      "在第229, k 和 b更新了\n",
      "在第230, k 和 b更新了\n",
      "在第231, k 和 b更新了\n",
      "在第232, k 和 b更新了\n",
      "在第233, k 和 b更新了\n",
      "在第234, k 和 b更新了\n",
      "在第235, k 和 b更新了\n",
      "在第236, k 和 b更新了\n",
      "在第237, k 和 b更新了\n",
      "在第238, k 和 b更新了\n",
      "在第239, k 和 b更新了\n",
      "在第240, k 和 b更新了\n",
      "在第241, k 和 b更新了\n",
      "在第242, k 和 b更新了\n",
      "在第243, k 和 b更新了\n",
      "在第244, k 和 b更新了\n",
      "在第245, k 和 b更新了\n",
      "在第246, k 和 b更新了\n",
      "在第247, k 和 b更新了\n",
      "在第248, k 和 b更新了\n",
      "在第249, k 和 b更新了\n",
      "在第250, k 和 b更新了\n",
      "在第251, k 和 b更新了\n",
      "在第252, k 和 b更新了\n",
      "在第253, k 和 b更新了\n",
      "在第254, k 和 b更新了\n",
      "在第255, k 和 b更新了\n",
      "在第256, k 和 b更新了\n",
      "在第257, k 和 b更新了\n",
      "在第258, k 和 b更新了\n",
      "在第259, k 和 b更新了\n",
      "在第260, k 和 b更新了\n",
      "在第261, k 和 b更新了\n",
      "在第262, k 和 b更新了\n",
      "在第263, k 和 b更新了\n",
      "在第264, k 和 b更新了\n",
      "在第265, k 和 b更新了\n",
      "在第266, k 和 b更新了\n",
      "在第267, k 和 b更新了\n",
      "在第268, k 和 b更新了\n",
      "在第269, k 和 b更新了\n",
      "在第270, k 和 b更新了\n",
      "在第271, k 和 b更新了\n",
      "在第272, k 和 b更新了\n",
      "在第273, k 和 b更新了\n",
      "在第274, k 和 b更新了\n",
      "在第275, k 和 b更新了\n",
      "在第276, k 和 b更新了\n",
      "在第277, k 和 b更新了\n",
      "在第278, k 和 b更新了\n",
      "在第279, k 和 b更新了\n",
      "在第280, k 和 b更新了\n",
      "在第281, k 和 b更新了\n",
      "在第282, k 和 b更新了\n",
      "在第283, k 和 b更新了\n",
      "在第284, k 和 b更新了\n",
      "在第285, k 和 b更新了\n",
      "在第286, k 和 b更新了\n",
      "在第287, k 和 b更新了\n",
      "在第288, k 和 b更新了\n",
      "在第289, k 和 b更新了\n",
      "在第290, k 和 b更新了\n",
      "在第291, k 和 b更新了\n",
      "在第292, k 和 b更新了\n",
      "在第293, k 和 b更新了\n",
      "在第294, k 和 b更新了\n",
      "在第295, k 和 b更新了\n",
      "在第296, k 和 b更新了\n",
      "在第297, k 和 b更新了\n",
      "在第298, k 和 b更新了\n",
      "在第299, k 和 b更新了\n",
      "在第300, k 和 b更新了\n",
      "在第301, k 和 b更新了\n",
      "在第302, k 和 b更新了\n",
      "在第303, k 和 b更新了\n",
      "在第304, k 和 b更新了\n",
      "在第305, k 和 b更新了\n",
      "在第306, k 和 b更新了\n",
      "在第307, k 和 b更新了\n",
      "在第308, k 和 b更新了\n",
      "在第309, k 和 b更新了\n",
      "在第310, k 和 b更新了\n",
      "在第311, k 和 b更新了\n",
      "在第312, k 和 b更新了\n",
      "在第313, k 和 b更新了\n",
      "在第314, k 和 b更新了\n",
      "在第315, k 和 b更新了\n",
      "在第316, k 和 b更新了\n",
      "在第317, k 和 b更新了\n",
      "在第318, k 和 b更新了\n",
      "在第319, k 和 b更新了\n",
      "在第320, k 和 b更新了\n",
      "在第321, k 和 b更新了\n",
      "在第322, k 和 b更新了\n",
      "在第323, k 和 b更新了\n",
      "在第324, k 和 b更新了\n",
      "在第325, k 和 b更新了\n",
      "在第326, k 和 b更新了\n",
      "在第327, k 和 b更新了\n",
      "在第328, k 和 b更新了\n",
      "在第329, k 和 b更新了\n",
      "在第330, k 和 b更新了\n",
      "在第331, k 和 b更新了\n",
      "在第332, k 和 b更新了\n",
      "在第333, k 和 b更新了\n",
      "在第334, k 和 b更新了\n",
      "在第335, k 和 b更新了\n",
      "在第336, k 和 b更新了\n",
      "在第337, k 和 b更新了\n",
      "在第338, k 和 b更新了\n",
      "在第339, k 和 b更新了\n",
      "在第340, k 和 b更新了\n",
      "在第341, k 和 b更新了\n",
      "在第342, k 和 b更新了\n",
      "在第343, k 和 b更新了\n",
      "在第344, k 和 b更新了\n",
      "在第345, k 和 b更新了\n",
      "在第346, k 和 b更新了\n",
      "在第347, k 和 b更新了\n",
      "在第348, k 和 b更新了\n",
      "在第349, k 和 b更新了\n",
      "在第350, k 和 b更新了\n",
      "在第351, k 和 b更新了\n",
      "在第352, k 和 b更新了\n",
      "在第353, k 和 b更新了\n",
      "在第354, k 和 b更新了\n",
      "在第355, k 和 b更新了\n",
      "在第356, k 和 b更新了\n",
      "在第357, k 和 b更新了\n",
      "在第358, k 和 b更新了\n",
      "在第359, k 和 b更新了\n",
      "在第360, k 和 b更新了\n",
      "在第361, k 和 b更新了\n",
      "在第362, k 和 b更新了\n",
      "在第363, k 和 b更新了\n",
      "在第364, k 和 b更新了\n",
      "在第367, k 和 b更新了\n"
     ]
    }
   ],
   "source": [
    "driections = [\n",
    "    (+1, -1),\n",
    "    (+1, +1),\n",
    "    (-1, -1),\n",
    "    (-1, +1)\n",
    "]\n",
    "\n",
    "def price(x, k, b):\n",
    "    return k * x + b\n",
    "\n",
    "trying_times = 10000\n",
    "\n",
    "best_k = random.random() * 100 - 200\n",
    "best_b = random.random() * 100 - 200\n",
    "\n",
    "next_direction = random.choice(driections)\n",
    "\n",
    "min_cost = float('inf')\n",
    "\n",
    "losses = []\n",
    "\n",
    "scala = 0.3\n",
    "\n",
    "for i in range(trying_times):\n",
    "    \n",
    "    current_direction = next_direction\n",
    "    \n",
    "    k_direction, b_direction = current_direction \n",
    "    \n",
    "    current_k = best_k + k_direction * scala\n",
    "    current_b = best_b + b_direction * scala\n",
    "\n",
    "    price_by_random_k_and_b = [price(x, current_k, current_b) for x in X_rm]\n",
    "#     print('the random k : {}, b: {}'.format(k, b))\n",
    "#     draw_room_and_price()\n",
    "#     plt.scatter(X_rm, price_by_random_k_and_b)\n",
    "    cost = loss(list(y), price_by_random_k_and_b)\n",
    "    \n",
    "    \n",
    "    if cost < min_cost:\n",
    "        min_cost = cost\n",
    "        best_k, best_b = current_k, current_b\n",
    "        print('在第{}, k 和 b更新了'.format(i))\n",
    "        losses.append(min_cost)\n",
    "        \n",
    "        next_direction = current_direction\n",
    "    else:\n",
    "        next_direction = random.choice(list(set(driections) - {current_direction}))"
   ]
  },
  {
   "cell_type": "code",
   "execution_count": 28,
   "metadata": {},
   "outputs": [
    {
     "data": {
      "text/plain": [
       "61.77539227586856"
      ]
     },
     "execution_count": 28,
     "metadata": {},
     "output_type": "execute_result"
    }
   ],
   "source": [
    "min_cost"
   ]
  },
  {
   "cell_type": "code",
   "execution_count": 29,
   "metadata": {},
   "outputs": [
    {
     "data": {
      "text/plain": [
       "(3.3125636816551536, 3.0030697216099487)"
      ]
     },
     "execution_count": 29,
     "metadata": {},
     "output_type": "execute_result"
    }
   ],
   "source": [
    "best_k, best_b"
   ]
  },
  {
   "cell_type": "code",
   "execution_count": 30,
   "metadata": {},
   "outputs": [],
   "source": [
    "def plot_by_k_and_b(k, b):\n",
    "    price_by_random_k_and_b = [price(x, k, b) for x in X_rm]\n",
    "    print('the random k : {}, b: {}'.format(k, b))\n",
    "    draw_room_and_price()\n",
    "    plt.scatter(X_rm, price_by_random_k_and_b)"
   ]
  },
  {
   "cell_type": "code",
   "execution_count": 31,
   "metadata": {},
   "outputs": [
    {
     "name": "stdout",
     "output_type": "stream",
     "text": [
      "the random k : 3.3125636816551536, b: 3.0030697216099487\n"
     ]
    },
    {
     "data": {
      "image/png": "[encoded data removed]",
      "text/plain": [
       "<Figure size 432x288 with 1 Axes>"
      ]
     },
     "metadata": {
      "needs_background": "light"
     },
     "output_type": "display_data"
    }
   ],
   "source": [
    "plot_by_k_and_b(best_k, best_b)"
   ]
  },
  {
   "cell_type": "markdown",
   "metadata": {},
   "source": [
    "## 3-rd 梯度下降"
   ]
  },
  {
   "cell_type": "markdown",
   "metadata": {},
   "source": [
    "## 我们能不能每一次的时候，都按照能够让它Loss减小方向走？\n",
    "## 都能找到一个方向"
   ]
  },
  {
   "cell_type": "markdown",
   "metadata": {},
   "source": [
    "$$ loss = \\frac{1}{n} \\sum_{i}^{n} (y_i - \\hat{y_i}) ^ 2 $$"
   ]
  },
  {
   "cell_type": "markdown",
   "metadata": {},
   "source": [
    "$$ loss = \\frac{1}{n} \\sum_{i}^{n} (y_i - (k * x_i + b)) ^ 2 $$"
   ]
  },
  {
   "cell_type": "markdown",
   "metadata": {},
   "source": [
    "$$ \\frac{\\partial{loss}}{\\partial{k}} = -\\frac{2}{n}\\sum(y_i - (kx_i + b))x_i $$   $$kx_i + b = \\hat{y}$$"
   ]
  },
  {
   "cell_type": "markdown",
   "metadata": {},
   "source": [
    "$$ \\frac{\\partial{loss}}{\\partial{b}} = -\\frac{2}{n}\\sum(y_i - (kx_i + b))$$   $$kx_i + b = \\hat{y}$$"
   ]
  },
  {
   "cell_type": "code",
   "execution_count": 32,
   "metadata": {},
   "outputs": [],
   "source": [
    "# 求k的偏导(梯度)\n",
    "def partial_k(x, y, y_hat):\n",
    "    gradient = 0\n",
    "    \n",
    "    for x_i, y_i, y_hat_i in zip(list(x), list(y), list(y_hat)):\n",
    "        gradient += (y_i - y_hat_i) * x_i\n",
    "        \n",
    "    return -2 / len(y) * gradient\n",
    "\n",
    "# 求b的偏导(梯度)\n",
    "def partial_b(y, y_hat):\n",
    "    \n",
    "    gradient = 0\n",
    "    \n",
    "    for y_i, y_hat_i in zip(list(y), list(y_hat)):\n",
    "        gradient += (y_i - y_hat_i)\n",
    "        \n",
    "    return -2 / len(y) * gradient\n",
    "    "
   ]
  },
  {
   "cell_type": "code",
   "execution_count": 33,
   "metadata": {},
   "outputs": [],
   "source": [
    "def price(x, k, b):\n",
    "    return k * x + b\n",
    "\n",
    "trying_times = 50000\n",
    "\n",
    "min_cost = float('inf')\n",
    "\n",
    "k, b = random.random() * 100 - 200, random.random() * 100 - 200\n",
    "\n",
    "best_k, best_b = None, None\n",
    "\n",
    "learning_rate = 1e-3\n",
    "\n",
    "losses = []\n",
    "\n",
    "for i in range(trying_times):\n",
    "\n",
    "    price_by_random_k_and_b = [price(x, k, b) for x in X_rm]\n",
    "    \n",
    "    cost = loss(list(y), price_by_random_k_and_b)\n",
    "    \n",
    "    \n",
    "    if cost < min_cost:\n",
    "#         print('在第{}次， k 和 b更新了'.format(i))\n",
    "        min_cost = cost\n",
    "        best_k, best_b = k, b\n",
    "        losses.append((i, min_cost))\n",
    "        \n",
    "    k_gradient = partial_k(X_rm, y, price_by_random_k_and_b) # 变化的方向\n",
    "    b_gradient = partial_b(y, price_by_random_k_and_b)\n",
    "    \n",
    "    k = k + (-1 * k_gradient) * learning_rate\n",
    "    b = b + (-1 * b_gradient) * learning_rate"
   ]
  },
  {
   "cell_type": "code",
   "execution_count": 34,
   "metadata": {},
   "outputs": [
    {
     "data": {
      "text/plain": [
       "50000"
      ]
     },
     "execution_count": 34,
     "metadata": {},
     "output_type": "execute_result"
    }
   ],
   "source": [
    "len(losses)"
   ]
  },
  {
   "cell_type": "code",
   "execution_count": 35,
   "metadata": {},
   "outputs": [
    {
     "data": {
      "text/plain": [
       "56.557733118853065"
      ]
     },
     "execution_count": 35,
     "metadata": {},
     "output_type": "execute_result"
    }
   ],
   "source": [
    "min_cost"
   ]
  },
  {
   "cell_type": "code",
   "execution_count": 36,
   "metadata": {},
   "outputs": [
    {
     "data": {
      "text/plain": [
       "(14.200147391189102, -67.09984472038475)"
      ]
     },
     "execution_count": 36,
     "metadata": {},
     "output_type": "execute_result"
    }
   ],
   "source": [
    "best_k, best_b"
   ]
  },
  {
   "cell_type": "code",
   "execution_count": 37,
   "metadata": {},
   "outputs": [],
   "source": [
    "def plot_by_k_and_b(k, b):\n",
    "    price_by_random_k_and_b = [price(x, k, b) for x in X_rm]\n",
    "    print('the random k : {}, b: {}'.format(k, b))\n",
    "    draw_room_and_price()\n",
    "    plt.scatter(X_rm, price_by_random_k_and_b)"
   ]
  },
  {
   "cell_type": "code",
   "execution_count": 38,
   "metadata": {},
   "outputs": [
    {
     "name": "stdout",
     "output_type": "stream",
     "text": [
      "the random k : 14.200147391189102, b: -67.09984472038475\n"
     ]
    },
    {
     "data": {
      "image/png": "[encoded data removed]",
      "text/plain": [
       "<Figure size 432x288 with 1 Axes>"
      ]
     },
     "metadata": {
      "needs_background": "light"
     },
     "output_type": "display_data"
    }
   ],
   "source": [
    "plot_by_k_and_b(best_k, best_b)"
   ]
  },
  {
   "cell_type": "code",
   "execution_count": 39,
   "metadata": {},
   "outputs": [],
   "source": [
    "def square(x):\n",
    "    return 10 * x ** 2 + 5 * x +5"
   ]
  },
  {
   "cell_type": "code",
   "execution_count": 40,
   "metadata": {},
   "outputs": [],
   "source": [
    "import numpy as np"
   ]
  },
  {
   "cell_type": "code",
   "execution_count": 41,
   "metadata": {},
   "outputs": [],
   "source": [
    "_X = np.linspace(-100, 100)"
   ]
  },
  {
   "cell_type": "code",
   "execution_count": 42,
   "metadata": {},
   "outputs": [],
   "source": [
    "_y = [square(x) for x in _X]"
   ]
  },
  {
   "cell_type": "code",
   "execution_count": 43,
   "metadata": {},
   "outputs": [
    {
     "data": {
      "text/plain": [
       "[<matplotlib.lines.Line2D at 0x7fa3a8cfdb50>]"
      ]
     },
     "execution_count": 43,
     "metadata": {},
     "output_type": "execute_result"
    },
    {
     "data": {
      "image/png": "[encoded data removed]",
      "text/plain": [
       "<Figure size 432x288 with 1 Axes>"
      ]
     },
     "metadata": {
      "needs_background": "light"
     },
     "output_type": "display_data"
    }
   ],
   "source": [
    "plt.plot(_X, _y)"
   ]
  },
  {
   "cell_type": "markdown",
   "metadata": {},
   "source": [
    "## 现在使用L1-Loss函数"
   ]
  },
  {
   "cell_type": "code",
   "execution_count": 48,
   "metadata": {},
   "outputs": [],
   "source": [
    "def price(x, k, b):\n",
    "    return k * x + b"
   ]
  },
  {
   "cell_type": "code",
   "execution_count": 50,
   "metadata": {},
   "outputs": [],
   "source": [
    "def loss(y, y_hat):\n",
    "    sum_ = sum([(y_i - y_hat_i) ** 2 for y_i, y_hat_i in zip(y, y_hat)])\n",
    "    return sum_ / len(y)"
   ]
  },
  {
   "cell_type": "code",
   "execution_count": 51,
   "metadata": {},
   "outputs": [],
   "source": [
    "# 此处为L1-Loss函数\n",
    "def loss_1(y, y_hat):\n",
    "    sum_ = sum(abs(y_i - y_hat_i) for y_i, y_hat_i in zip(y, y_hat))\n",
    "    return sum_ / len(y)"
   ]
  },
  {
   "cell_type": "code",
   "execution_count": 46,
   "metadata": {},
   "outputs": [],
   "source": [
    "# 对k 和 b求偏导， 也就是梯度\n",
    "def loss_1_partial_k(x, y):\n",
    "    gradient = 0\n",
    "    for x_i in x:\n",
    "        gradient += x_i\n",
    "    return 1 / len(y) * gradient\n",
    "\n",
    "def loss_1_partial_b(y):\n",
    "    return 1 / len(y)"
   ]
  },
  {
   "cell_type": "code",
   "execution_count": 69,
   "metadata": {},
   "outputs": [],
   "source": [
    "# 尝试次数\n",
    "trying_time = 1000\n",
    "# 初始化最小值\n",
    "min_cost = float('inf')\n",
    "k, b = random.random() * 100 - 200, random.random() * 100 - 200\n",
    "best_k, best_b = None,None\n",
    "learning_rate = 1e-3\n",
    "losses = []\n",
    "for i in range(trying_time):\n",
    "    # 对于给定的所有的x 与之前随机的k 和 b进行求解并集合成一个列表\n",
    "    price_by_k_and_b = [price(x, k, b) for x in X_rm]\n",
    "    cost = loss_1(list(y), price_by_k_and_b)\n",
    "    \n",
    "    if min_cost > cost:\n",
    "        min_cost = cost\n",
    "        best_k, best_b = k, b\n",
    "        losses.append((i, cost))\n",
    "        \n",
    "    k_gradient = loss_1_partial_k(X_rm, y)\n",
    "    b_gradient = loss_1_partial_b(y)\n",
    "    \n",
    "    k = k + (-1 * k_gradient) * learning_rate\n",
    "    b = b + (-1 * b_gradient) * learning_rate\n",
    "    "
   ]
  },
  {
   "cell_type": "code",
   "execution_count": 70,
   "metadata": {},
   "outputs": [
    {
     "data": {
      "text/plain": [
       "1"
      ]
     },
     "execution_count": 70,
     "metadata": {},
     "output_type": "execute_result"
    }
   ],
   "source": [
    "len(losses)"
   ]
  },
  {
   "cell_type": "code",
   "execution_count": 71,
   "metadata": {},
   "outputs": [
    {
     "data": {
      "text/plain": [
       "1188.5155379790017"
      ]
     },
     "execution_count": 71,
     "metadata": {},
     "output_type": "execute_result"
    }
   ],
   "source": [
    "min_cost"
   ]
  },
  {
   "cell_type": "code",
   "execution_count": 72,
   "metadata": {},
   "outputs": [
    {
     "data": {
      "text/plain": [
       "(-158.6186691573193, -169.12238899282767)"
      ]
     },
     "execution_count": 72,
     "metadata": {},
     "output_type": "execute_result"
    }
   ],
   "source": [
    "best_k, best_b"
   ]
  },
  {
   "cell_type": "code",
   "execution_count": 73,
   "metadata": {},
   "outputs": [],
   "source": [
    "def plot_by_k_and_b(k, b):\n",
    "    price_by_random_k_and_b = [price(x, k, b) for x in X_rm]\n",
    "    print('the random k : {}, b: {}'.format(k, b))\n",
    "    draw_room_and_price()\n",
    "    plt.scatter(X_rm, price_by_random_k_and_b)"
   ]
  },
  {
   "cell_type": "code",
   "execution_count": 74,
   "metadata": {},
   "outputs": [
    {
     "name": "stdout",
     "output_type": "stream",
     "text": [
      "the random k : -164.90330354467523, b: -169.1243652774072\n"
     ]
    },
    {
     "data": {
      "image/png": "[encoded data removed]",
      "text/plain": [
       "<Figure size 432x288 with 1 Axes>"
      ]
     },
     "metadata": {
      "needs_background": "light"
     },
     "output_type": "display_data"
    }
   ],
   "source": [
    "plot_by_k_and_b(k, b)"
   ]
  },
  {
   "cell_type": "code",
   "execution_count": null,
   "metadata": {},
   "outputs": [],
   "source": []
  }
 ],
 "metadata": {
  "kernelspec": {
   "display_name": "Python 3",
   "language": "python",
   "name": "python3"
  },
  "language_info": {
   "codemirror_mode": {
    "name": "ipython",
    "version": 3
   },
   "file_extension": ".py",
   "mimetype": "text/x-python",
   "name": "python",
   "nbconvert_exporter": "python",
   "pygments_lexer": "ipython3",
   "version": "3.7.6"
  }
 },
 "nbformat": 4,
 "nbformat_minor": 4
}
